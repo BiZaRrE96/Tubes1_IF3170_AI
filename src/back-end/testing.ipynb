{
 "cells": [
  {
   "cell_type": "code",
   "execution_count": 1,
   "metadata": {},
   "outputs": [],
   "source": [
    "import GEV2_runner as GE"
   ]
  },
  {
   "cell_type": "code",
   "execution_count": 2,
   "metadata": {},
   "outputs": [
    {
     "name": "stdout",
     "output_type": "stream",
     "text": [
      "\n",
      "\n",
      "==|| EXPERIMEN BAGIAN 1 ||==\n",
      "\n",
      "\n",
      "==START== DISINTEGRATE\n",
      "\n",
      "Eksperimen 1 : Itteration 8\n",
      "=====\n",
      "=====\n",
      "=====\n",
      "\n",
      "Eksperimen 1 : Itteration 64\n",
      "=====\n",
      "=====\n",
      "=====\n",
      "\n",
      "Eksperimen 1 : Itteration 512\n",
      "=====\n",
      "=====\n",
      "=====\n",
      "\n",
      "\n",
      "==START== SPLIT\n",
      "\n",
      "Eksperimen 1 : Itteration 8\n",
      "=====\n",
      "=====\n",
      "=====\n",
      "\n",
      "Eksperimen 1 : Itteration 64\n",
      "=====\n",
      "=====\n",
      "=====\n",
      "\n",
      "Eksperimen 1 : Itteration 512\n",
      "=====\n",
      "=====\n",
      "=====\n",
      "\n",
      "\n",
      "==|| EXPERIMEN BAGIAN 2 ||==\n",
      "\n",
      "\n",
      "==START== DISINTEGRATE\n",
      "\n",
      "Eksperimen 2 : Sample 4\n",
      "=====\n",
      "=====\n",
      "=====\n",
      "\n",
      "Eksperimen 2 : Sample 8\n",
      "=====\n",
      "=====\n",
      "=====\n",
      "\n",
      "Eksperimen 2 : Sample 16\n",
      "=====\n",
      "=====\n",
      "=====\n",
      "\n",
      "\n",
      "==START== SPLIT\n",
      "\n",
      "Eksperimen 2 : Sample 4\n",
      "=====\n",
      "=====\n",
      "=====\n",
      "\n",
      "Eksperimen 2 : Sample 8\n",
      "=====\n",
      "=====\n",
      "=====\n",
      "\n",
      "Eksperimen 2 : Sample 16\n",
      "=====\n",
      "=====\n",
      "=====\n"
     ]
    }
   ],
   "source": [
    "report = GE.test_wrapper()"
   ]
  },
  {
   "cell_type": "code",
   "execution_count": 3,
   "metadata": {},
   "outputs": [],
   "source": [
    "import pandas as pd"
   ]
  },
  {
   "cell_type": "code",
   "execution_count": 4,
   "metadata": {},
   "outputs": [
    {
     "data": {
      "text/plain": [
       "3"
      ]
     },
     "execution_count": 4,
     "metadata": {},
     "output_type": "execute_result"
    }
   ],
   "source": [
    "len(report)"
   ]
  },
  {
   "cell_type": "code",
   "execution_count": 6,
   "metadata": {},
   "outputs": [
    {
     "data": {
      "text/plain": [
       "{'Experiment 1': {'Disintegrate': {8: [{'AVG': -78.31217905866797,\n",
       "     'BEST': -74.11148286619672},\n",
       "    {'AVG': -80.12226961298919, 'BEST': -73.52090620590452},\n",
       "    {'AVG': -75.23029327317371, 'BEST': -71.73633386931516}],\n",
       "   64: [{'AVG': -78.41556743838126, 'BEST': -69.57890794524495},\n",
       "    {'AVG': -74.70346349622449, 'BEST': -70.49953067948653},\n",
       "    {'AVG': -78.10705511266679, 'BEST': -71.06821224506172}],\n",
       "   512: [{'AVG': -81.84124629726846, 'BEST': -79.31798564912368},\n",
       "    {'AVG': -79.83390206082231, 'BEST': -75.44664716293072},\n",
       "    {'AVG': -75.02157027157469, 'BEST': -72.52144983640666}]},\n",
       "  'Split': {8: [{'AVG': -81.07359457448946, 'BEST': -77.68509513488549},\n",
       "    {'AVG': -79.02594912158875, 'BEST': -73.42734105129645},\n",
       "    {'AVG': -78.06730212741809, 'BEST': -69.93151229470638}],\n",
       "   64: [{'AVG': -80.98758568536486, 'BEST': -76.44373806953826},\n",
       "    {'AVG': -75.01651712598363, 'BEST': -70.98394074505097},\n",
       "    {'AVG': -79.09003833255551, 'BEST': -74.36864056365722}],\n",
       "   512: [{'AVG': -79.16403099120642, 'BEST': -70.94979392908537},\n",
       "    {'AVG': -82.26932067966516, 'BEST': -73.09658522340001},\n",
       "    {'AVG': -83.67032887422727, 'BEST': -77.18404845595784}]}},\n",
       " 'Experiment 2': {'Disintegrate': {4: [{'AVG': -80.17308560670773,\n",
       "     'BEST': -76.87321487668773},\n",
       "    {'AVG': -74.92938222197253, 'BEST': -72.9372038938884},\n",
       "    {'AVG': -79.94559774096129, 'BEST': -77.39333193981363}],\n",
       "   8: [{'AVG': -77.84545205952016, 'BEST': -72.67825871497128},\n",
       "    {'AVG': -81.76473574531866, 'BEST': -75.59577278568491},\n",
       "    {'AVG': -76.96933002486593, 'BEST': -72.37208946833657}],\n",
       "   16: [{'AVG': -83.78610718532609, 'BEST': -75.71946677478542},\n",
       "    {'AVG': -75.74262059446883, 'BEST': -73.00317789199971},\n",
       "    {'AVG': -76.99943593919484, 'BEST': -73.52785571298293}]},\n",
       "  'Split': {4: [{'AVG': -80.11206608463087, 'BEST': -74.00713867542473},\n",
       "    {'AVG': -83.70098998192792, 'BEST': -78.11640098785885},\n",
       "    {'AVG': -78.09224063288796, 'BEST': -71.76076959597866}],\n",
       "   8: [{'AVG': -77.83189979918095, 'BEST': -71.26135059304747},\n",
       "    {'AVG': -82.15812526465292, 'BEST': -77.4137161765252},\n",
       "    {'AVG': -77.80775445458968, 'BEST': -69.74713319696157}],\n",
       "   16: [{'AVG': -80.9619501067759, 'BEST': -76.05222131517579},\n",
       "    {'AVG': -81.06941486671651, 'BEST': -77.81276481177144},\n",
       "    {'AVG': -81.11644257877985, 'BEST': -74.55759882107243}]}},\n",
       " 'Reference': {'AVG': -78.775846306085, 'BEST': -70.24461168380265}}"
      ]
     },
     "execution_count": 6,
     "metadata": {},
     "output_type": "execute_result"
    }
   ],
   "source": [
    "report"
   ]
  },
  {
   "cell_type": "code",
   "execution_count": null,
   "metadata": {},
   "outputs": [],
   "source": []
  }
 ],
 "metadata": {
  "kernelspec": {
   "display_name": "Python 3",
   "language": "python",
   "name": "python3"
  },
  "language_info": {
   "codemirror_mode": {
    "name": "ipython",
    "version": 3
   },
   "file_extension": ".py",
   "mimetype": "text/x-python",
   "name": "python",
   "nbconvert_exporter": "python",
   "pygments_lexer": "ipython3",
   "version": "3.11.4"
  }
 },
 "nbformat": 4,
 "nbformat_minor": 2
}
